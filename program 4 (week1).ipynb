{
  "nbformat": 4,
  "nbformat_minor": 0,
  "metadata": {
    "colab": {
      "provenance": [],
      "authorship_tag": "ABX9TyMRYUw0c0e9UtR0XFbaTIx0",
      "include_colab_link": true
    },
    "kernelspec": {
      "name": "python3",
      "display_name": "Python 3"
    },
    "language_info": {
      "name": "python"
    }
  },
  "cells": [
    {
      "cell_type": "markdown",
      "metadata": {
        "id": "view-in-github",
        "colab_type": "text"
      },
      "source": [
        "<a href=\"https://colab.research.google.com/github/prabhasg5/python-lab/blob/main/program%204%20(week1).ipynb\" target=\"_parent\"><img src=\"https://colab.research.google.com/assets/colab-badge.svg\" alt=\"Open In Colab\"/></a>"
      ]
    },
    {
      "cell_type": "code",
      "execution_count": 1,
      "metadata": {
        "colab": {
          "base_uri": "https://localhost:8080/"
        },
        "id": "FLR2brbUm1Ag",
        "outputId": "84f9d0e9-8ec0-47c7-b10b-8e9b83a1edad"
      },
      "outputs": [
        {
          "output_type": "stream",
          "name": "stdout",
          "text": [
            "Enter first side:5\n",
            "Enter second side:3\n",
            "Enter third side:6\n",
            "Area of triangle is: 7.483314773547883\n"
          ]
        }
      ],
      "source": [
        "\"\"\"Program4: Write a program to calculate area of triangle using Heron’s formula.\n",
        "(Hint: Heron’s formula is given as: Area = Square root of√s(s - a)(s - b)(s - c))\"\"\"\n",
        "\n",
        "import math\n",
        "a=int(input(\"Enter first side:\"))\n",
        "b=int(input(\"Enter second side:\"))\n",
        "c=int(input(\"Enter third side:\"))\n",
        "s=(a+b+c)/2\n",
        "area=math.sqrt(s*(s-a)*(s-b)*(s-c))\n",
        "print(\"Area of triangle is:\",area)"
      ]
    }
  ]
}