{
  "nbformat": 4,
  "nbformat_minor": 0,
  "metadata": {
    "colab": {
      "provenance": [],
      "authorship_tag": "ABX9TyNdUY+iiE99m5DWQnvr1yZc",
      "include_colab_link": true
    },
    "kernelspec": {
      "name": "python3",
      "display_name": "Python 3"
    },
    "language_info": {
      "name": "python"
    }
  },
  "cells": [
    {
      "cell_type": "markdown",
      "metadata": {
        "id": "view-in-github",
        "colab_type": "text"
      },
      "source": [
        "<a href=\"https://colab.research.google.com/github/prabhasg5/python-lab/blob/main/Week_3(iterative%20statements).ipynb\" target=\"_parent\"><img src=\"https://colab.research.google.com/assets/colab-badge.svg\" alt=\"Open In Colab\"/></a>"
      ]
    },
    {
      "cell_type": "code",
      "execution_count": null,
      "metadata": {
        "colab": {
          "base_uri": "https://localhost:8080/"
        },
        "id": "TieQH-hdPK60",
        "outputId": "2ef24d29-41dc-4ddc-f5fe-35fdfbafdd4c"
      },
      "outputs": [
        {
          "output_type": "stream",
          "name": "stdout",
          "text": [
            "enter the expression2+3\n",
            "5\n"
          ]
        }
      ],
      "source": [
        "print(eval(input(\"enter the expression\")))"
      ]
    },
    {
      "cell_type": "markdown",
      "source": [
        "Week 3 Iterative statements"
      ],
      "metadata": {
        "id": "vyODjbD2ROtr"
      }
    },
    {
      "cell_type": "code",
      "source": [
        "#excersice 1 Write a Python program to find those numbers which are divisible by 7 and multiples of 5, between 1500 and 2700 (both included).\n",
        "for i in range(1500,2701):\n",
        "    if (i%7==0 and i%5==0):\n",
        "        print(i)"
      ],
      "metadata": {
        "colab": {
          "base_uri": "https://localhost:8080/"
        },
        "id": "s6-6x-tkQvd1",
        "outputId": "adf5a245-18fb-4119-d6c9-a9d9c7c572a1"
      },
      "execution_count": null,
      "outputs": [
        {
          "output_type": "stream",
          "name": "stdout",
          "text": [
            "1505\n",
            "1540\n",
            "1575\n",
            "1610\n",
            "1645\n",
            "1680\n",
            "1715\n",
            "1750\n",
            "1785\n",
            "1820\n",
            "1855\n",
            "1890\n",
            "1925\n",
            "1960\n",
            "1995\n",
            "2030\n",
            "2065\n",
            "2100\n",
            "2135\n",
            "2170\n",
            "2205\n",
            "2240\n",
            "2275\n",
            "2310\n",
            "2345\n",
            "2380\n",
            "2415\n",
            "2450\n",
            "2485\n",
            "2520\n",
            "2555\n",
            "2590\n",
            "2625\n",
            "2660\n",
            "2695\n"
          ]
        }
      ]
    },
    {
      "cell_type": "code",
      "source": [
        "#Excersice 2-Write a Python program to guess a number between 1 and 9\n",
        "import random\n",
        "random_value=random.randint(1,9)\n",
        "a=int(input(\"enter a number from 1 to 9\\n\"))\n",
        "if(a==random_value):\n",
        "  print(\"well guessed\")\n",
        "else:\n",
        "    print(\"better luck next time\")"
      ],
      "metadata": {
        "colab": {
          "base_uri": "https://localhost:8080/"
        },
        "id": "xT0wq-xmT51D",
        "outputId": "767e1ab8-72c9-4741-d0af-40407d50ea39"
      },
      "execution_count": null,
      "outputs": [
        {
          "output_type": "stream",
          "name": "stdout",
          "text": [
            "enter a number from 1 to 9\n",
            "7\n",
            "better luck next time\n"
          ]
        }
      ]
    },
    {
      "cell_type": "code",
      "source": [
        "#Exercise 3: Write a Python program to construct the following pattern, using a nested for loop.\n",
        "\n",
        "\"\"\"\n",
        "*\n",
        "* *\n",
        "* * *\n",
        "* * * *\n",
        "* * * * *\n",
        "* * * *\n",
        "* * *\n",
        "* *\n",
        "*\n",
        "\"\"\"\n",
        "for i in range(1,6):\n",
        "  for j in range(1,i+1):\n",
        "    print(\"*\",end=\" \")\n",
        "  print()\n",
        "\n",
        "for i in range(4,0,-1):\n",
        "  for j in range(1,i+1):\n",
        "    print(\"*\",end=\" \")\n",
        "  print()"
      ],
      "metadata": {
        "colab": {
          "base_uri": "https://localhost:8080/"
        },
        "id": "I-2jBibWUwk6",
        "outputId": "4bf4c0a4-6569-4533-f823-c76221247ab3"
      },
      "execution_count": null,
      "outputs": [
        {
          "output_type": "stream",
          "name": "stdout",
          "text": [
            "* \n",
            "* * \n",
            "* * * \n",
            "* * * * \n",
            "* * * * * \n",
            "* * * * \n",
            "* * * \n",
            "* * \n",
            "* \n"
          ]
        }
      ]
    },
    {
      "cell_type": "code",
      "source": [
        "\"\"\" Exercise4 : Write a Python program to count the number of even and odd numbers in a series of numbers\n",
        "Sample numbers : numbers = (1, 2, 3, 4, 5, 6, 7, 8, 9)\n",
        "Expected Output :\n",
        "Number of even numbers : 5\n",
        "Number of odd numbers : 4 \"\"\"\n",
        "numbers=(1,4,3,5,6,2,7,9,8,12)\n",
        "even=0\n",
        "odd=0\n",
        "for i in numbers:\n",
        "  if(i%2==0):\n",
        "    even+=1\n",
        "  else:\n",
        "    odd+=1\n",
        "print(\"Number of even numbers :\",even)\n",
        "print(\"Number of odd numbers :\",odd)"
      ],
      "metadata": {
        "colab": {
          "base_uri": "https://localhost:8080/"
        },
        "id": "O3VVJYMVWbwr",
        "outputId": "cb04644c-7a04-4036-9f4c-876516c763e9"
      },
      "execution_count": null,
      "outputs": [
        {
          "output_type": "stream",
          "name": "stdout",
          "text": [
            "Number of even numbers : 5\n",
            "Number of odd numbers : 5\n"
          ]
        }
      ]
    },
    {
      "cell_type": "code",
      "source": [
        "\"\"\"\n",
        "Exercise 5: Write a Python program to get the Fibonacci series between 0 and 50.\n",
        "Note : The Fibonacci Sequence is the series of numbers :\n",
        "0, 1, 1, 2, 3, 5, 8, 13, 21, ....\n",
        "Every next number is found by adding up the two numbers before it.\n",
        "Expected Output : 1 1 2 3 5 8 13 21 34\n",
        "\"\"\"\n",
        "a=0\n",
        "b=1\n",
        "while(b<50):\n",
        "  print(b,end=\" \")\n",
        "  c=a+b\n",
        "  a=b\n",
        "  b=c"
      ],
      "metadata": {
        "colab": {
          "base_uri": "https://localhost:8080/"
        },
        "id": "IQzyq6oyXTXb",
        "outputId": "25dcce3f-50cb-4fbe-b0c8-5ec470129ab2"
      },
      "execution_count": null,
      "outputs": [
        {
          "output_type": "stream",
          "name": "stdout",
          "text": [
            "1 1 2 3 5 8 13 21 34 "
          ]
        }
      ]
    },
    {
      "cell_type": "code",
      "source": [
        "\"\"\"\n",
        "Exercise 6: Write a Python program that iterates the integers from 1 to 50. For multiples of three print \"Fizz\" instead of the number and for multiples of five print \"Buzz\". For numbers that are multiples of three and five, print \"FizzBuzz\".\n",
        "Sample Output :\n",
        "fizzbuzz\n",
        "1\n",
        "2\n",
        "fizz\n",
        "4\n",
        "Buzz \"\"\"\n",
        "for i in range(1,51):\n",
        "  if(i%3==0):\n",
        "    print(\"Fizz\")\n",
        "  elif(i%5==0):\n",
        "    print(\"Buzz\")\n",
        "  if(i%3==0 and i%5==0):\n",
        "    print(\"FizzBuzz\")\n",
        "  else:\n",
        "    continue"
      ],
      "metadata": {
        "colab": {
          "base_uri": "https://localhost:8080/"
        },
        "id": "rEeyiEsKaGC7",
        "outputId": "13d05094-2c44-4b3e-a637-e9c343e12749"
      },
      "execution_count": null,
      "outputs": [
        {
          "output_type": "stream",
          "name": "stdout",
          "text": [
            "Fizz\n",
            "Buzz\n",
            "Fizz\n",
            "Fizz\n",
            "Buzz\n",
            "Fizz\n",
            "Fizz\n",
            "FizzBuzz\n",
            "Fizz\n",
            "Buzz\n",
            "Fizz\n",
            "Fizz\n",
            "Buzz\n",
            "Fizz\n",
            "Fizz\n",
            "FizzBuzz\n",
            "Fizz\n",
            "Buzz\n",
            "Fizz\n",
            "Fizz\n",
            "Buzz\n",
            "Fizz\n",
            "Fizz\n",
            "FizzBuzz\n",
            "Fizz\n",
            "Buzz\n"
          ]
        }
      ]
    },
    {
      "cell_type": "code",
      "source": [
        "\"\"\"\n",
        "Exercise 7 :  Write a Python program to print the alphabet pattern 'A'.\n",
        "Expected Output:\n",
        "  ***\n",
        " *   *\n",
        " *   *\n",
        " *****\n",
        " *   *\n",
        " *   *\n",
        " *   *\n",
        " \"\"\"\n",
        "rows =7\n",
        "columns = 5\n",
        "\n",
        "for i in range(rows):\n",
        "    if i == 0:\n",
        "        print(' ' * 1 + '*' * 3 + ' ' * 1)\n",
        "    elif i == rows // 2:\n",
        "        print('*' * columns)\n",
        "    else:\n",
        "        print('*' + ' ' * (columns - 2) + '*')\n",
        "\n",
        "\n",
        "\n",
        "\n"
      ],
      "metadata": {
        "id": "63dTH2XId1X0",
        "colab": {
          "base_uri": "https://localhost:8080/"
        },
        "outputId": "6a3a5520-dd63-4834-f699-02f06adfb643"
      },
      "execution_count": 38,
      "outputs": [
        {
          "output_type": "stream",
          "name": "stdout",
          "text": [
            " *** \n",
            "*   *\n",
            "*   *\n",
            "*****\n",
            "*   *\n",
            "*   *\n",
            "*   *\n"
          ]
        }
      ]
    },
    {
      "cell_type": "code",
      "source": [
        "\"\"\"\n",
        "Exercise 8 : Python program to check if a given number is an Armstrong number. \"\"\"\n",
        "A=int(input(\"enter a number\"))\n"
      ],
      "metadata": {
        "id": "DqTYVFj3e4WD"
      },
      "execution_count": null,
      "outputs": []
    },
    {
      "cell_type": "code",
      "source": [
        "\"\"\"\n",
        "Exercise 9 : Use nested loops to print the following output:\n",
        "111111111\n",
        "222222222\n",
        "...\n",
        "888888888\n",
        "999999999\n",
        "\"\"\""
      ],
      "metadata": {
        "id": "8tISaRAmpGok"
      },
      "execution_count": null,
      "outputs": []
    },
    {
      "cell_type": "code",
      "source": [
        "\"\"\"\n",
        "Exercise 10 : Write a program to use the loop to find the factorial of a given number.\n",
        "\n",
        "The factorial (symbol:!) means to multiply all whole numbers from the chosen number down to 1.\n",
        "For example: calculate the factorial of 5\n",
        "oWrite a C program to count frequency of digits in a given number. How to find frequency of digits in a given number using loop in C programming. Logic to find total occurrences of each digits in a given number in C program.\n",
        "Example\n",
        "Input: Input any number: 116540\n",
        "Logic :\n",
        "(Step by step description to count frequency of digits in a number.\n",
        "1.Input a number from user. Store it in some variable say num.\n",
        "2.Declare and initialize an array of size 10 to store frequency of each digit. Why declare array of size 10? Because total number of digits is 10 i.e. 0, 1, 2, 3, 4, 5, 6, 7, 8, 9.\n",
        "3.Extract last digit of given number by performing modulo division by 10. Store the result in some variable say lastDigit = num % 10.\n",
        "4.Increment the frequency of a digit found above i.e. lastDigit. To increment frequency perform freq[lastDigit]++.\n",
        "The value of lastDigit will be always between 0-9 inclusive. Hence it can be used as an index to freq array.\n",
        "5.Remove last digit from the number since it is processed and not required further. To remove last digit divide the number by 10 i.e. num = num / 10.\n",
        "6.Repeat step 3 to 5 till number is greater than 0.\n",
        "7.Finally print frequency of each element in the freq array.)\n",
        "\"\"\"\n"
      ],
      "metadata": {
        "id": "0Xk54J3bpKUc"
      },
      "execution_count": null,
      "outputs": []
    }
  ]
}