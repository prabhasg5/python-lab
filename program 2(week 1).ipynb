{
  "nbformat": 4,
  "nbformat_minor": 0,
  "metadata": {
    "colab": {
      "provenance": [],
      "authorship_tag": "ABX9TyO4R3bil7KL8QxSGJFGarPk",
      "include_colab_link": true
    },
    "kernelspec": {
      "name": "python3",
      "display_name": "Python 3"
    },
    "language_info": {
      "name": "python"
    }
  },
  "cells": [
    {
      "cell_type": "markdown",
      "metadata": {
        "id": "view-in-github",
        "colab_type": "text"
      },
      "source": [
        "<a href=\"https://colab.research.google.com/github/prabhasg5/python-lab/blob/main/program%202(week%201).ipynb\" target=\"_parent\"><img src=\"https://colab.research.google.com/assets/colab-badge.svg\" alt=\"Open In Colab\"/></a>"
      ]
    },
    {
      "cell_type": "code",
      "execution_count": 2,
      "metadata": {
        "colab": {
          "base_uri": "https://localhost:8080/"
        },
        "id": "_8k4vQzEguep",
        "outputId": "af509d5d-89b6-467b-8941-94b401c8bf2a"
      },
      "outputs": [
        {
          "output_type": "stream",
          "name": "stdout",
          "text": [
            "enter 2 integers:4 5\n",
            "add 9.0 \n",
            "sub -1.0 \n",
            "mul 20.0 \n",
            "div 0.8\n"
          ]
        }
      ],
      "source": [
        "\"\"\"Program2: Write a program that Demonstrate the following Operators in Python with suitable examples.\n",
        "i) Arithmetic Operators ii) Relational Operators\n",
        "iii) Assignment Operator iv) Logical Operators\n",
        "v) Bit wise Operators vi) Membership Operators\n",
        "vii) Identity Operators\"\"\"\n",
        "\n",
        "#a)\n",
        "a, b=map(float,input(\"enter 2 integers:\").split())\n",
        "add=(a+b)\n",
        "sub=(a-b)\n",
        "mul=(a*b)\n",
        "div=(a/b)\n",
        "print(\"add\",add,\"\\nsub\",sub,\"\\nmul\",mul,\"\\ndiv\",div)"
      ]
    },
    {
      "cell_type": "code",
      "source": [
        "#b)relational operators\n",
        "a, b=map(float,input(\"enter 2 integers:\").split())\n",
        "print(a>b)\n",
        "print(a<b)\n",
        "print(a>=b)\n",
        "print(a<=b)\n",
        "print(a==b)\n",
        "print(a!=b)\n"
      ],
      "metadata": {
        "colab": {
          "base_uri": "https://localhost:8080/"
        },
        "id": "5D3H3xJrhWjO",
        "outputId": "b7480a1f-bc40-412b-f1b4-35f1193332b3"
      },
      "execution_count": 3,
      "outputs": [
        {
          "output_type": "stream",
          "name": "stdout",
          "text": [
            "enter 2 integers:4 5\n",
            "False\n",
            "True\n",
            "False\n",
            "True\n",
            "False\n",
            "True\n"
          ]
        }
      ]
    },
    {
      "cell_type": "code",
      "source": [
        "#c)assignement operator\n",
        "a, b=map(float,input(\"enter 2 integers:\").split())\n",
        "a+=b\n",
        "print(a)\n",
        "a-=b\n",
        "print(a)\n",
        "a*=b\n",
        "print(a)\n",
        "a/=b\n",
        "print(a)\n",
        "a=b\n",
        "print(a)"
      ],
      "metadata": {
        "colab": {
          "base_uri": "https://localhost:8080/"
        },
        "id": "ckBGosX_hr8t",
        "outputId": "f9c77b7e-7f60-419e-d798-5543ae8b1cf3"
      },
      "execution_count": 6,
      "outputs": [
        {
          "output_type": "stream",
          "name": "stdout",
          "text": [
            "enter 2 integers:4 5\n",
            "9.0\n",
            "4.0\n",
            "20.0\n",
            "4.0\n",
            "5.0\n"
          ]
        }
      ]
    },
    {
      "cell_type": "code",
      "source": [
        "#d)logical operator\n",
        "a, b=map(float,input(\"enter 2 integers:\").split())\n",
        "print(a>b and a<b)\n",
        "print(a>b or a<b)\n",
        "print(not(a>b))"
      ],
      "metadata": {
        "colab": {
          "base_uri": "https://localhost:8080/"
        },
        "id": "WtyCXLFHiBPN",
        "outputId": "e8ee2c6a-314c-4417-f6f1-7b05060aabaf"
      },
      "execution_count": 7,
      "outputs": [
        {
          "output_type": "stream",
          "name": "stdout",
          "text": [
            "enter 2 integers:4 5\n",
            "False\n",
            "True\n",
            "True\n"
          ]
        }
      ]
    },
    {
      "cell_type": "code",
      "source": [
        "#e)Bit wise Operators\n",
        "a, b=map(int,input(\"enter 2 integers:\").split())\n",
        "print(a & b)\n",
        "print(a|b)\n",
        "print(a^b)\n",
        "print(~a)\n",
        "print(a<<b)\n",
        "print(a>>b)"
      ],
      "metadata": {
        "colab": {
          "base_uri": "https://localhost:8080/"
        },
        "id": "sOecMhjGitlN",
        "outputId": "c59c4180-7dc1-4bbb-e8ca-c8e9dd01c06d"
      },
      "execution_count": 10,
      "outputs": [
        {
          "output_type": "stream",
          "name": "stdout",
          "text": [
            "enter 2 integers:4 5\n",
            "4\n",
            "5\n",
            "1\n",
            "-5\n",
            "128\n",
            "0\n"
          ]
        }
      ]
    },
    {
      "cell_type": "code",
      "source": [
        "#f) Membership Operators\n",
        "a=input(\"enter integers:\")\n",
        "b=input(\"enter integers:\")\n",
        "print(a in b)\n",
        "print(a not in b)\n"
      ],
      "metadata": {
        "colab": {
          "base_uri": "https://localhost:8080/"
        },
        "id": "xR9smardjqQO",
        "outputId": "b00deba1-a741-4f9d-90a0-60c3b3646c3a"
      },
      "execution_count": 13,
      "outputs": [
        {
          "output_type": "stream",
          "name": "stdout",
          "text": [
            "enter integers:4\n",
            "enter integers:4\n",
            "True\n",
            "False\n"
          ]
        }
      ]
    },
    {
      "cell_type": "code",
      "source": [
        "#g) Identity Operators\n",
        "a=input(\"enter integers:\")\n",
        "b=input(\"enter integers:\")\n",
        "print(a is b)\n",
        "print(a is not b)"
      ],
      "metadata": {
        "colab": {
          "base_uri": "https://localhost:8080/"
        },
        "id": "no8OYhf1kNPk",
        "outputId": "4b365360-d758-4311-a8f5-1752d5baca4c"
      },
      "execution_count": 14,
      "outputs": [
        {
          "output_type": "stream",
          "name": "stdout",
          "text": [
            "enter integers:4\n",
            "enter integers:5\n",
            "False\n",
            "True\n"
          ]
        }
      ]
    }
  ]
}