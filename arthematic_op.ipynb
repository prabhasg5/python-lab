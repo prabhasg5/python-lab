{
  "nbformat": 4,
  "nbformat_minor": 0,
  "metadata": {
    "colab": {
      "provenance": [],
      "authorship_tag": "ABX9TyOOo6EG3ttKPSOZ5pGlu1rG",
      "include_colab_link": true
    },
    "kernelspec": {
      "name": "python3",
      "display_name": "Python 3"
    },
    "language_info": {
      "name": "python"
    }
  },
  "cells": [
    {
      "cell_type": "markdown",
      "metadata": {
        "id": "view-in-github",
        "colab_type": "text"
      },
      "source": [
        "<a href=\"https://colab.research.google.com/github/prabhasg5/python-lab/blob/main/arthematic_op.ipynb\" target=\"_parent\"><img src=\"https://colab.research.google.com/assets/colab-badge.svg\" alt=\"Open In Colab\"/></a>"
      ]
    },
    {
      "cell_type": "code",
      "execution_count": 11,
      "metadata": {
        "colab": {
          "base_uri": "https://localhost:8080/"
        },
        "id": "mRRcClkEJO77",
        "outputId": "d40aa4f3-ce83-40c9-bebd-9a2ecabbedd9"
      },
      "outputs": [
        {
          "output_type": "stream",
          "name": "stdout",
          "text": [
            "enter 2 integers:2 3\n",
            "add 5 sub -1 mul 6 div 0.6666666666666666\n"
          ]
        }
      ],
      "source": [
        "#a=3\n",
        "#b=5\n",
        "a, b=map(int,input(\"enter 2 integers:\").split())\n",
        "add=(a+b)\n",
        "sub=(a-b)\n",
        "mul=(a*b)\n",
        "div=(a/b)\n",
        "print(\"add\",add,\"sub\",sub,\"mul\",mul,\"div\",div)"
      ]
    },
    {
      "cell_type": "code",
      "source": [
        "a, b=map(float,input(\"enter 2 integers:\").split())\n",
        "add=(a+b)\n",
        "sub=(a-b)\n",
        "mul=(a*b)\n",
        "div=(a/b)\n",
        "print(\"add\",add,\"sub\",sub,\"mul\",mul,\"div\",div)"
      ],
      "metadata": {
        "colab": {
          "base_uri": "https://localhost:8080/"
        },
        "id": "29_zmJhsMy4J",
        "outputId": "8dd73824-05d9-4637-8d6b-6018bf299a47"
      },
      "execution_count": 12,
      "outputs": [
        {
          "output_type": "stream",
          "name": "stdout",
          "text": [
            "enter 2 integers:2.5 5.5\n",
            "add 8.0 sub -3.0 mul 13.75 div 0.45454545454545453\n"
          ]
        }
      ]
    }
  ]
}