{
  "nbformat": 4,
  "nbformat_minor": 0,
  "metadata": {
    "colab": {
      "provenance": [],
      "authorship_tag": "ABX9TyMUU7i57Fp+GztKlNENo05I",
      "include_colab_link": true
    },
    "kernelspec": {
      "name": "python3",
      "display_name": "Python 3"
    },
    "language_info": {
      "name": "python"
    }
  },
  "cells": [
    {
      "cell_type": "markdown",
      "metadata": {
        "id": "view-in-github",
        "colab_type": "text"
      },
      "source": [
        "<a href=\"https://colab.research.google.com/github/prabhasg5/python-lab/blob/main/program%201(week1).ipynb\" target=\"_parent\"><img src=\"https://colab.research.google.com/assets/colab-badge.svg\" alt=\"Open In Colab\"/></a>"
      ]
    },
    {
      "cell_type": "code",
      "execution_count": 3,
      "metadata": {
        "colab": {
          "base_uri": "https://localhost:8080/"
        },
        "id": "cx5ig00KPCQs",
        "outputId": "12ec48df-a1a0-4acc-cecd-669b9f434917"
      },
      "outputs": [
        {
          "output_type": "stream",
          "name": "stdout",
          "text": [
            "enter student  name prabhas\n",
            "enter student roll no  g5\n",
            "enter student class it 2nd year\n",
            "enter student section IT 3\n",
            "enter student marks 80\n",
            "enter student marks 60\n",
            "enter student marks 90\n",
            "enter student marks 70\n",
            "enter student marks 90\n",
            "student name:   prabhas\n",
            "student roll no:    g5\n",
            "student class:   it 2nd year\n",
            "student section:   IT 3\n",
            "student marks:   80\n",
            "student marks:   60\n",
            "student marks:   90\n",
            "student marks:   70\n",
            "student marks:   90\n",
            "total marks:  390\n",
            "average marks:  78.0\n"
          ]
        }
      ],
      "source": [
        "name=input(\"enter student  name\");\n",
        "roll=input(\"enter student roll no\");\n",
        "classroom=input(\"enter student class\");\n",
        "sec=input(\"enter student section\");\n",
        "m1=input(\"enter student marks\");\n",
        "m2=input(\"enter student marks\");\n",
        "m3=input(\"enter student marks\");\n",
        "m4=input(\"enter student marks\");\n",
        "m5=input(\"enter student marks\");\n",
        "total=int(m1)+int(m2)+int(m3)+int(m4)+int(m5);\n",
        "avg=total/5;\n",
        "print(\"student name: \",name);\n",
        "print(\"student roll no: \",roll);\n",
        "print(\"student class: \",classroom);\n",
        "print(\"student section: \",sec);\n",
        "print(\"student marks: \",m1);\n",
        "print(\"student marks: \",m2);\n",
        "print(\"student marks: \",m3);\n",
        "print(\"student marks: \",m4);\n",
        "print(\"student marks: \",m5);\n",
        "print(\"total marks: \",total);\n",
        "print(\"average marks: \",avg);\n"
      ]
    },
    {
      "cell_type": "code",
      "source": [
        "\"\"\"Program1:\n",
        "a) Demonstrate about Basics of Python Programming.\n",
        "b) Demonstrate about fundamental Data types in Python Programming. (i.e., int, float, complex, bool and string types)\n",
        "c) Demonstrate the working of following functions in Python.\n",
        " i) type( ) iii) range( )\n",
        "d) Write a Python program to demonstrate various type conversion functions.\"\"\"\n",
        "\n",
        "#a)\n",
        "print(\"hello World\");\n",
        "print(\"welcome to python programming\")\n",
        "a, b=map(float,input(\"enter 2 integers:\").split())\n",
        "add=(a+b)\n",
        "sub=(a-b)\n",
        "mul=(a*b)\n",
        "div=(a/b)\n",
        "print(\"add\",add,\"\\nsub\",sub,\"\\nmul\",mul,\"\\ndiv\",div)\n"
      ],
      "metadata": {
        "colab": {
          "base_uri": "https://localhost:8080/"
        },
        "id": "TXHjBhImUwNi",
        "outputId": "ab57d049-82f1-4bd6-aa13-357934cd6289"
      },
      "execution_count": 14,
      "outputs": [
        {
          "output_type": "stream",
          "name": "stdout",
          "text": [
            "hello World\n",
            "welcome to python programming\n",
            "enter 2 integers:4 5\n",
            "add 9.0 \n",
            "sub -1.0 \n",
            "mul 20.0 \n",
            "div 0.8\n"
          ]
        }
      ]
    },
    {
      "cell_type": "code",
      "source": [
        "#b)\n",
        "i=int(input(\"enter an integer\"))\n",
        "print(i);\n",
        "f=float(input(\"enter a float value\"))\n",
        "print(f);\n",
        "a=5+7j;\n",
        "print(a.real);\n",
        "print(a.imag);\n",
        "b= True;\n",
        "c= False;\n",
        "print(b);\n",
        "print(c);\n",
        "s=str(input(\"enter string\"))\n",
        "print(s);\n"
      ],
      "metadata": {
        "colab": {
          "base_uri": "https://localhost:8080/"
        },
        "id": "PcIsTfS7YyoQ",
        "outputId": "26d07d42-6168-4101-a51b-a9984363dac2"
      },
      "execution_count": 24,
      "outputs": [
        {
          "output_type": "stream",
          "name": "stdout",
          "text": [
            "enter an integer4\n",
            "4\n",
            "enter a float value5.6\n",
            "5.6\n",
            "5.0\n",
            "7.0\n",
            "True\n",
            "False\n",
            "enter stringprabhas\n",
            "prabhas\n"
          ]
        }
      ]
    },
    {
      "cell_type": "code",
      "source": [
        "#c)\n",
        "a=10;\n",
        "print(type(a))\n",
        "print(tuple(range(5)))\n",
        "#d)\n",
        "print(type(float(a)))\n",
        "print(float(a))"
      ],
      "metadata": {
        "colab": {
          "base_uri": "https://localhost:8080/"
        },
        "id": "jdZcPMN9c2U_",
        "outputId": "1823e29d-fca9-45f6-8657-a534ba0e6ce2"
      },
      "execution_count": 34,
      "outputs": [
        {
          "output_type": "stream",
          "name": "stdout",
          "text": [
            "<class 'int'>\n",
            "<class 'float'>\n",
            "10.0\n",
            "(0, 1, 2, 3, 4)\n"
          ]
        }
      ]
    }
  ]
}