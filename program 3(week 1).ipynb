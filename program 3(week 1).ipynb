{
  "nbformat": 4,
  "nbformat_minor": 0,
  "metadata": {
    "colab": {
      "provenance": [],
      "authorship_tag": "ABX9TyM10Q/vf5ZFoPr7C9CV8xiz",
      "include_colab_link": true
    },
    "kernelspec": {
      "name": "python3",
      "display_name": "Python 3"
    },
    "language_info": {
      "name": "python"
    }
  },
  "cells": [
    {
      "cell_type": "markdown",
      "metadata": {
        "id": "view-in-github",
        "colab_type": "text"
      },
      "source": [
        "<a href=\"https://colab.research.google.com/github/prabhasg5/python-lab/blob/main/program%203(week%201).ipynb\" target=\"_parent\"><img src=\"https://colab.research.google.com/assets/colab-badge.svg\" alt=\"Open In Colab\"/></a>"
      ]
    },
    {
      "cell_type": "code",
      "execution_count": 1,
      "metadata": {
        "colab": {
          "base_uri": "https://localhost:8080/"
        },
        "id": "3dhgE3v8jUqu",
        "outputId": "b06377de-b3fa-4b64-abaf-afabe3fd5538"
      },
      "outputs": [
        {
          "output_type": "stream",
          "name": "stdout",
          "text": [
            "Enter x1:4\n",
            "Enter y1:5\n",
            "Enter x2:6\n",
            "Enter y2:7\n",
            "Distance between (4, 5) and (6, 7) is 2.8284271247461903\n"
          ]
        }
      ],
      "source": [
        "\"\"\"Program3: a program to compute distance between two points taking input from the user Write a program add.py that takes 2 numbers as command line arguments and prints its sum.\n",
        "Solution:- Distance can be calculated using the two points (x1, y1) and (x2, y2), the distance d between these points is given by the formula: √(x2-x1)2+(y2-y1)2\n",
        "for e.g : let x1 , y1=10,9 and x2 , y2=4,1 then (x2-x1) 2=(10-4)2 = 62 = 36 and (y2-y1) 2= (9- 1)2 = 82 = 64 now 64 + 36 =100 and 100 is square root of 10 sp distance between (10,9) and (4,1) is 10.\"\"\"\n",
        "\n",
        "x1=int(input(\"Enter x1:\"))\n",
        "y1=int(input(\"Enter y1:\"))\n",
        "x2=int(input(\"Enter x2:\"))\n",
        "y2=int(input(\"Enter y2:\"))\n",
        "d=((x2-x1)**2+(y2-y1)**2)**0.5\n",
        "print(\"Distance between\",(x1,y1),\"and\",(x2,y2),\"is\",d)\n"
      ]
    }
  ]
}