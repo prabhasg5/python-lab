{
  "nbformat": 4,
  "nbformat_minor": 0,
  "metadata": {
    "colab": {
      "provenance": [],
      "authorship_tag": "ABX9TyN/+TPu5nVrESV+gCOPJkq0",
      "include_colab_link": true
    },
    "kernelspec": {
      "name": "python3",
      "display_name": "Python 3"
    },
    "language_info": {
      "name": "python"
    }
  },
  "cells": [
    {
      "cell_type": "markdown",
      "metadata": {
        "id": "view-in-github",
        "colab_type": "text"
      },
      "source": [
        "<a href=\"https://colab.research.google.com/github/prabhasg5/python-lab/blob/main/Week_7.ipynb\" target=\"_parent\"><img src=\"https://colab.research.google.com/assets/colab-badge.svg\" alt=\"Open In Colab\"/></a>"
      ]
    },
    {
      "cell_type": "code",
      "execution_count": 3,
      "metadata": {
        "colab": {
          "base_uri": "https://localhost:8080/"
        },
        "id": "v-B4wzyMebku",
        "outputId": "135bd108-b90f-4e66-d5d7-2e1e9e4e6ea5"
      },
      "outputs": [
        {
          "output_type": "stream",
          "name": "stdout",
          "text": [
            "Enter numbers separated by a comma: 4,5\n",
            "not equal\n"
          ]
        }
      ],
      "source": [
        "#1.Write a program using functions to check whether two numbers are equal or not.\n",
        "def equal_no(a,b):\n",
        "  if a==b:\n",
        "    print(\"equal\")\n",
        "  else:\n",
        "    print(\"not equal\")\n",
        "\n",
        "a, b = map(int, input(\"Enter no separated by a comma: \").split(\",\"))\n",
        "equal_no(a,b)"
      ]
    },
    {
      "cell_type": "code",
      "source": [
        "#2.Write a program to swap two numbers\n",
        "def swap(a,b):\n",
        "  print(\"before\",a,b)\n",
        "  a=a+b\n",
        "  b=a-b\n",
        "  a=a-b\n",
        "  print(\"after\",a,b)\n",
        "a,b=map(int,input(\"enter no to swap sep. bu comma: \").split(\",\"))\n",
        "swap(a,b)"
      ],
      "metadata": {
        "colab": {
          "base_uri": "https://localhost:8080/"
        },
        "id": "qApucrapguZ_",
        "outputId": "46406751-f282-4e2c-85c6-61d8a7f8a119"
      },
      "execution_count": 5,
      "outputs": [
        {
          "output_type": "stream",
          "name": "stdout",
          "text": [
            "enter no to swap sep. bu comma: 3,4\n",
            "before 3 4\n",
            "after 4 3\n"
          ]
        }
      ]
    },
    {
      "cell_type": "code",
      "source": [
        "#3.Write a program to return the full name of a person\n",
        "def name():\n",
        "  n=input(\"enter name \")\n",
        "  return n\n",
        "n=name()\n",
        "print(n)"
      ],
      "metadata": {
        "colab": {
          "base_uri": "https://localhost:8080/"
        },
        "id": "j_jebQIIk8ne",
        "outputId": "8d34129a-ddbb-4482-a8f0-398f5c8892d1"
      },
      "execution_count": 2,
      "outputs": [
        {
          "output_type": "stream",
          "name": "stdout",
          "text": [
            "enter name prabhas\n",
            "prabhas\n"
          ]
        }
      ]
    },
    {
      "cell_type": "code",
      "source": [
        "#4.Write a program to return the average of its arguments.\n",
        "def Average(a,b,c):\n",
        "  avg=(a+b+c)/3;\n",
        "  return avg\n",
        "a,b,c=map(int,input(\"enter 3 no's with comma: \").split(\",\"))\n",
        "avg=Average(a,b,c)\n",
        "print(avg)\n"
      ],
      "metadata": {
        "colab": {
          "base_uri": "https://localhost:8080/"
        },
        "id": "qYXXJxV5mr82",
        "outputId": "37549dc0-9b9b-4cc8-8543-bc895b85c091"
      },
      "execution_count": 3,
      "outputs": [
        {
          "output_type": "stream",
          "name": "stdout",
          "text": [
            "enter 3 no's with comma: 2,3,4\n",
            "3.0\n"
          ]
        }
      ]
    },
    {
      "cell_type": "code",
      "source": [
        "#5.Write a program using functions and return statement to check whether a number is even or odd\n",
        "def odd_even(a):\n",
        "  if a%2==0:\n",
        "    return \"even\"\n",
        "  else:\n",
        "    return \"odd\"\n",
        "a=int(input(\"enter a number: \"))\n",
        "print(odd_even(a))"
      ],
      "metadata": {
        "colab": {
          "base_uri": "https://localhost:8080/"
        },
        "id": "ZDMk9Mz4n4qt",
        "outputId": "64e6ac00-e1e4-45b8-b445-a382989436cd"
      },
      "execution_count": 9,
      "outputs": [
        {
          "output_type": "stream",
          "name": "stdout",
          "text": [
            "enter a number: 7\n",
            "odd\n"
          ]
        }
      ]
    },
    {
      "cell_type": "code",
      "source": [
        "#6.Write program to calculate the Fibonacci series by using function.\n",
        "def fibonacci(n):\n",
        "  a=0\n",
        "  b=1\n",
        "  print(a,b,end=\" \")\n",
        "  for i in range(1,n-1):\n",
        "    c=a+b\n",
        "    print(c,end=\" \")\n",
        "    a=b\n",
        "    b=c\n",
        "a=int(input(\"enter n th term: \"))\n",
        "fibonacci(a)"
      ],
      "metadata": {
        "colab": {
          "base_uri": "https://localhost:8080/"
        },
        "id": "RfxVWwzspvEt",
        "outputId": "336e76bb-289c-4f65-8353-aa604cf433b5"
      },
      "execution_count": 14,
      "outputs": [
        {
          "output_type": "stream",
          "name": "stdout",
          "text": [
            "enter n th term: 4\n",
            "0 1 1 2 "
          ]
        }
      ]
    },
    {
      "cell_type": "code",
      "source": [
        "#7.Write program to calculate area of a circle using functions\n",
        "def Area(r):\n",
        "  area=3.14*r**2\n",
        "  return area\n",
        "a=int(input(\"enter radius in cm: \"))\n",
        "print(Area(a),\"square cm\")"
      ],
      "metadata": {
        "colab": {
          "base_uri": "https://localhost:8080/"
        },
        "id": "0ueJ8zUcp5FM",
        "outputId": "be71d4f7-0a07-49b1-e8b8-a0a507a98096"
      },
      "execution_count": 12,
      "outputs": [
        {
          "output_type": "stream",
          "name": "stdout",
          "text": [
            "enter radius in cm: 4\n",
            "50.24 square cm\n"
          ]
        }
      ]
    },
    {
      "cell_type": "code",
      "source": [
        "#8.Write program to find the largest of three numbers.\n",
        "def large_three(a,b,c):\n",
        "  if(a>b and a>c):\n",
        "    print(a,\"is largest\")\n",
        "  elif(b>a and b>c):\n",
        "    print(b,\"is largest\")\n",
        "  else:\n",
        "    print(c,\"is largest\")\n",
        "a,b,c=map(int,input(\"enter 3 numbers: \").split(\",\"))\n",
        "large_three(a,b,c)"
      ],
      "metadata": {
        "colab": {
          "base_uri": "https://localhost:8080/"
        },
        "id": "t4KLNQX4p9Xc",
        "outputId": "467193bf-012c-40a4-ecb5-d4760f714ccb"
      },
      "execution_count": 18,
      "outputs": [
        {
          "output_type": "stream",
          "name": "stdout",
          "text": [
            "enter 3 numbers: 1,2,3\n",
            "3 is largest\n"
          ]
        }
      ]
    },
    {
      "cell_type": "code",
      "source": [
        "#9.Write a function to check if a given number is prime or not.\n",
        "def prime(a):\n",
        "  if a> 1:\n",
        "    for i in range(2, (a//2)+1):\n",
        "        if (a% i) == 0:\n",
        "            print(a, \"is not a prime number\")\n",
        "            break\n",
        "    else:\n",
        "        print(a, \"is a prime number\")\n",
        "  else:\n",
        "    print(a, \"is not a prime number\")\n",
        "a= int(input(\"Enter number: \"))\n",
        "print(prime(a))"
      ],
      "metadata": {
        "colab": {
          "base_uri": "https://localhost:8080/"
        },
        "id": "PnNMiNI3xdBU",
        "outputId": "ce8e8b45-b7fb-4add-8ca0-35a7c4a5bc85"
      },
      "execution_count": 21,
      "outputs": [
        {
          "output_type": "stream",
          "name": "stdout",
          "text": [
            "Enter number: 3\n",
            "3 is a prime number\n",
            "None\n"
          ]
        }
      ]
    }
  ]
}