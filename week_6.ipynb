{
  "nbformat": 4,
  "nbformat_minor": 0,
  "metadata": {
    "colab": {
      "provenance": [],
      "authorship_tag": "ABX9TyMCOrdYs0bzHK2HftlhqwPN",
      "include_colab_link": true
    },
    "kernelspec": {
      "name": "python3",
      "display_name": "Python 3"
    },
    "language_info": {
      "name": "python"
    }
  },
  "cells": [
    {
      "cell_type": "markdown",
      "metadata": {
        "id": "view-in-github",
        "colab_type": "text"
      },
      "source": [
        "<a href=\"https://colab.research.google.com/github/prabhasg5/python-lab/blob/main/week_6.ipynb\" target=\"_parent\"><img src=\"https://colab.research.google.com/assets/colab-badge.svg\" alt=\"Open In Colab\"/></a>"
      ]
    },
    {
      "cell_type": "code",
      "execution_count": 11,
      "metadata": {
        "colab": {
          "base_uri": "https://localhost:8080/"
        },
        "id": "Zr-oUDDtYIQR",
        "outputId": "2c94a289-a59d-4414-cfac-d23131c5461d"
      },
      "outputs": [
        {
          "output_type": "stream",
          "name": "stdout",
          "text": [
            "enter a string to encrypt Prabhas\n",
            "enter key value 4\n",
            "Tveflew\n"
          ]
        }
      ],
      "source": [
        "#oExercise 1: Write a Python program that encrypts a message by adding a key value to every character .\n",
        "#Hint:if key =3,then add 3 to every character\n",
        "#Sample Input :Helloworld\n",
        "#Expected Output:k h o o r Z r u o g\n",
        "value=input(\"enter a string to encrypt \")\n",
        "key=int(input(\"enter key value \"))\n",
        "eyn_string=\"\"\n",
        "for i in value:\n",
        "  eyn_char=chr(ord(i)+key)\n",
        "  eyn_string+=eyn_char\n",
        "print(eyn_string)\n"
      ]
    },
    {
      "cell_type": "code",
      "source": [
        "#Exercise 2: Write a Python program that uses split() to split a multiline string.\n",
        "string=\"\"\"prbhas is good boy\n",
        "he also like to read books\n",
        "he loves to play cricket\"\"\"\n",
        "str_split=string.splitlines()\n",
        "print(str_split)\n"
      ],
      "metadata": {
        "colab": {
          "base_uri": "https://localhost:8080/"
        },
        "id": "uaUdUqZvb6xf",
        "outputId": "9c53a4d9-bcf8-4af6-83e4-f9b63091c861"
      },
      "execution_count": 18,
      "outputs": [
        {
          "output_type": "stream",
          "name": "stdout",
          "text": [
            "['prbhas is good boy', 'he also like to read books', 'he loves to play cricket']\n"
          ]
        }
      ]
    },
    {
      "cell_type": "code",
      "source": [
        "#Exercise 3: Write a Python program  to generate an Abecedarian series.\n",
        "#Hint: Abecedarian refers to a series or list in which the elements appear in alphabetical order.\n",
        "#Sample Input: str1=\"ABCDEFGH”\n",
        "#str2 =”ate”\n",
        "#Expected Output : Aate Bate Cate Date Eate Fate Gate Hate\n",
        "string=input(\"enter letters in alphabetical order \")\n",
        "str1=input(\"enter add string\")\n",
        "for i in string:\n",
        "  print(i+str1,end=\" \")\n"
      ],
      "metadata": {
        "colab": {
          "base_uri": "https://localhost:8080/"
        },
        "id": "Gz1HVOBwiKbI",
        "outputId": "c0e4d0fc-997a-49ff-e778-b2ae17bdeb79"
      },
      "execution_count": 22,
      "outputs": [
        {
          "output_type": "stream",
          "name": "stdout",
          "text": [
            "enter letters in alphabetical order ABCDEFG\n",
            "enter add string     ate\n",
            "Aate Bate Cate Date Eate Fate Gate "
          ]
        }
      ]
    },
    {
      "cell_type": "code",
      "source": [
        "#Exercise4 : Write a program that accepts a string from user and redisplays the same string after removing vowels from it.\n",
        "#Sample input: The food is very tasty\n",
        "#Expected Output:\tTh fd s vry tsty\n",
        "string=input(\"enter string \")\n",
        "vowels=\"aeiouAEIOU\"\n",
        "res=\"\"\n",
        "for i in string:\n",
        "  if i not in vowels:\n",
        "    res+=i\n",
        "print(res)"
      ],
      "metadata": {
        "colab": {
          "base_uri": "https://localhost:8080/"
        },
        "id": "q7DjLCYWlSGG",
        "outputId": "d2a89d00-3d81-4bbb-80ac-3431a99d019e"
      },
      "execution_count": 27,
      "outputs": [
        {
          "output_type": "stream",
          "name": "stdout",
          "text": [
            "enter string ujrtfdvbo\n",
            "jrtfdvb\n"
          ]
        }
      ]
    },
    {
      "cell_type": "code",
      "source": [
        "#Exercise 5 : Write a Python program to remove a newline in Python.\n",
        "lis = \"\\n prabhas \\n\"\n",
        "string = lis.strip()\n",
        "print(string)\n"
      ],
      "metadata": {
        "colab": {
          "base_uri": "https://localhost:8080/"
        },
        "id": "9bpoZ4ZRo48X",
        "outputId": "93d1d806-0fcf-4f8e-b366-6227b6840e1a"
      },
      "execution_count": 36,
      "outputs": [
        {
          "output_type": "stream",
          "name": "stdout",
          "text": [
            "prabhas\n"
          ]
        }
      ]
    },
    {
      "cell_type": "code",
      "source": [
        "#oExercise 6: Write a Program that finds whether a given character is present in a string or not.in case it is present it prints the index at which it is present.Do not use built-in find functions to search a the character.\n",
        "#Sample Input: Enter a string: God is Great\n",
        "#Enter the character to be searched: r\n",
        "#Expected Output: r  found in string at index:8\n",
        "string=input(\"enter a string \")\n",
        "key=input(\"enter the key value \")\n",
        "for i in range(len(string)):\n",
        "  if key in string[i]:\n",
        "    print(key,\"found at the index\",i)"
      ],
      "metadata": {
        "colab": {
          "base_uri": "https://localhost:8080/"
        },
        "id": "lr_V76BYquKf",
        "outputId": "ee49fc7a-bd25-4b58-a1d7-4a6db80be877"
      },
      "execution_count": 33,
      "outputs": [
        {
          "output_type": "stream",
          "name": "stdout",
          "text": [
            "enter a string prabhas\n",
            "enter the key value b\n",
            "b found at the index 3\n"
          ]
        }
      ]
    },
    {
      "cell_type": "code",
      "source": [
        "#oWrite a Python program to count repeated characters in a string.\n",
        "#Sample string: 'thequickbrownfoxjumpsoverthelazydog'\n",
        "#Expected output :\n",
        "#o   4\n",
        "#e   3\n",
        "#u   2\n",
        "#h   2\n",
        "#r   2\n",
        "#t   2\n",
        "string=input(\"enter a string \")\n",
        "for i in string:\n",
        "  count=string.count(i)\n",
        "  if count>1:\n",
        "    print(i,count)"
      ],
      "metadata": {
        "colab": {
          "base_uri": "https://localhost:8080/"
        },
        "id": "4gZzVtxwwqPm",
        "outputId": "fd6020fa-b505-4411-e5d3-1d8e498f52f4"
      },
      "execution_count": 43,
      "outputs": [
        {
          "output_type": "stream",
          "name": "stdout",
          "text": [
            "enter a string thequickbrownfoxjumpsoverthelazydog\n",
            "t 2\n",
            "h 2\n",
            "e 3\n",
            "u 2\n",
            "r 2\n",
            "o 4\n",
            "o 4\n",
            "u 2\n",
            "o 4\n",
            "e 3\n",
            "r 2\n",
            "t 2\n",
            "h 2\n",
            "e 3\n",
            "o 4\n"
          ]
        }
      ]
    }
  ]
}